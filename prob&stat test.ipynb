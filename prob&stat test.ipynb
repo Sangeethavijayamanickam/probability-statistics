{
 "cells": [
  {
   "cell_type": "markdown",
   "id": "04414645",
   "metadata": {},
   "source": [
    "<h1> STATISTICS & PROBABILITY </h1>"
   ]
  },
  {
   "cell_type": "markdown",
   "id": "251900a8",
   "metadata": {},
   "source": [
    "<h3> Question 1 </h3>\n"
   ]
  },
  {
   "cell_type": "code",
   "execution_count": 7,
   "id": "0f6a92a1",
   "metadata": {},
   "outputs": [
    {
     "name": "stdout",
     "output_type": "stream",
     "text": [
      "THEREFORE,THE TOTAL PROBABILITY IS : 0.01656862745098039\n"
     ]
    }
   ],
   "source": [
    "PA=13/52 # probability of getting diamond card\n",
    "PB=13/51 #probability of getting heart\n",
    "PC=13/50 #probablity of getting spade\n",
    "P=PA*PB*PC\n",
    "print(\"THEREFORE,THE TOTAL PROBABILITY IS :\",P)"
   ]
  },
  {
   "cell_type": "markdown",
   "id": "2f9a3aa7",
   "metadata": {},
   "source": [
    "<h3>Question 2 </h3>\n"
   ]
  },
  {
   "cell_type": "code",
   "execution_count": 14,
   "id": "8235df34",
   "metadata": {},
   "outputs": [
    {
     "name": "stdout",
     "output_type": "stream",
     "text": [
      "PROBABILITY OF EITHER ACTION OR DRAMA  :  0.78\n",
      "PROBABILITO OF EITHER COMEDY OR HORROR :  0.66\n"
     ]
    }
   ],
   "source": [
    "pa = 42/100 #p(a) probability of linking action movies\n",
    "\n",
    "pb = 54/100 #p(b)probability of linking comedy movies\n",
    "\n",
    "pc = 36/100 #p(c)probability of linking drama movies\n",
    "\n",
    "pd = 12/100 #p(d)probability of linking horror movies\n",
    "\n",
    "PA = pa+pc  #P(A)probability pf either action or drama movies\n",
    "\n",
    "PB = pb+pd #P(B)probability of either comedy or horror movies\n",
    "\n",
    "print(\"PROBABILITY OF EITHER ACTION OR DRAMA  : \",PA)\n",
    "\n",
    "print(\"PROBABILITO OF EITHER COMEDY OR HORROR : \",PB)\n"
   ]
  },
  {
   "cell_type": "markdown",
   "id": "1dbee2dc",
   "metadata": {},
   "source": [
    "<h3> Question 3 </h3>"
   ]
  },
  {
   "cell_type": "markdown",
   "id": "9d5b4ccc",
   "metadata": {},
   "source": [
    "bag A contains 3 red balls & 5 black balls\n",
    "    \n",
    "    bag B contains 4 white balls & 7 black balls\n",
    "    \n",
    "    probability of selecting bag A, P(A) = 1/2\n",
    "    \n",
    "    probablity of selecting bag B, P(B) = 1/2\n",
    "    \n",
    "    P(A) = P(B) = 1/2\n",
    "    \n",
    "    P(B/A) = Probability of black ball from bag A = 5/8\n",
    "    \n",
    "    P(B/B) = Probability of balck ball from bah B = 7/11\n",
    "    \n",
    "    P(B/B) = Probability of black ball from bag B \n",
    " \n",
    "          =(P(B)*P(B/B)) / (P(A)*P(B/A) + P(B)*P(B/B))\n",
    "        \n",
    "          =(1/2 * 7/11)  / (1/2 * 5/8 + 1/2 * 7/11)\n",
    "            \n",
    "          =(7/22) / (5/16 + 7/22)\n",
    "            \n",
    "          =0.504\n",
    "        \n",
    "        \n",
    "        ANS: 0.504\n",
    "    "
   ]
  },
  {
   "cell_type": "markdown",
   "id": "3480355b",
   "metadata": {},
   "source": [
    "<h3> Question 4 </h3>"
   ]
  },
  {
   "cell_type": "markdown",
   "id": "b007135d",
   "metadata": {},
   "source": [
    "application given in 1 hour = 450\n",
    "\n",
    "By poisson distribution\n",
    "\n",
    "(a). Receiving 10 application in 1 minute\n",
    " \n",
    "      ⁁ = 450/60\n",
    "    \n",
    "      ⁁ = 15/2 , x = 10\n",
    "        \n",
    "      P(X = x) = (e**(-15/2) . (15/2)**10) / 10!\n",
    "      \n",
    "             = 0.0858\n",
    "            \n",
    "(b). Receiving atleast 17 application in 2 minutes\n",
    "    \n",
    "     P(X = x) = (e**(-15/2) . (15/2)**17) / 17!\n",
    "        \n",
    "             = 0.6321\n",
    "             "
   ]
  },
  {
   "cell_type": "markdown",
   "id": "aba55cf6",
   "metadata": {},
   "source": [
    "<h3>Question 6 </h3>"
   ]
  },
  {
   "cell_type": "markdown",
   "id": "903502ad",
   "metadata": {},
   "source": [
    "Z = (X - µ) / σ\n",
    "\n",
    "0.675 = (X - 350870) / 12405\n",
    "\n",
    "X = 350870 +(0.675 * 12405)\n",
    "\n",
    "X = 359237.045\n",
    "\n",
    "\n",
    "THEREFORE,THE 75th PERCENTILE OF PRICES AMONG NEW HOMES IN MANCHESTER"
   ]
  },
  {
   "cell_type": "markdown",
   "id": "c6ceffb8",
   "metadata": {},
   "source": [
    "<h3> Question 9 <?h3>"
   ]
  },
  {
   "cell_type": "code",
   "execution_count": 18,
   "id": "88a2d36a",
   "metadata": {},
   "outputs": [
    {
     "name": "stdout",
     "output_type": "stream",
     "text": [
      "0.040177141568228006\n"
     ]
    }
   ],
   "source": [
    "from scipy.stats import poisson\n",
    "Probability = poisson.pmf(k=80,mu=76)\n",
    "print(Probability)"
   ]
  },
  {
   "cell_type": "markdown",
   "id": "395429db",
   "metadata": {},
   "source": [
    "<h3> Question 7 </h3>"
   ]
  },
  {
   "cell_type": "code",
   "execution_count": 20,
   "id": "ffb3e933",
   "metadata": {},
   "outputs": [
    {
     "name": "stdout",
     "output_type": "stream",
     "text": [
      "F-STATISTIC is  : 0.9921235138705414\n"
     ]
    }
   ],
   "source": [
    "UnionCity=[44,21,36,34,77,32,29,39,92,67,45,37]\n",
    "MountainView=[47,81,41,79,38,20,33,83,41,40,69,36]\n",
    "import numpy as np\n",
    "X = np.array(UnionCity)\n",
    "Y = np.array(MountainView)\n",
    "f = np.var(X, ddof=1)/np.var(Y, ddof=1)\n",
    "print(\"F-STATISTIC is  :\",f)"
   ]
  },
  {
   "cell_type": "markdown",
   "id": "b49cf917",
   "metadata": {},
   "source": [
    "<h3> Question 8 </h3>"
   ]
  },
  {
   "cell_type": "code",
   "execution_count": null,
   "id": "1d7e96a6",
   "metadata": {},
   "outputs": [],
   "source": [
    "import numpy as np\n",
    "import scipy.stats\n",
    "\n",
    "mean = [44.5,42,46.5]\n",
    "std_dev = [5,5,8]\n",
    "\n",
    "def f_test(x, y):\n",
    "    x = np.array(x)\n",
    "    y = np.array(y)\n",
    "    f = np.var(x, ddof=1)/np.var(y, ddof=1)\n",
    "    dfn = x.size-1 \n",
    "    dfd = y.size-1 \n",
    "    p = 1-scipy.stats.f.cdf(f, dfn, dfd) \n",
    "    return f, p\n",
    "\n",
    "f,p = f_test(mean, std_dev)\n",
    "\n",
    "print('F-statistics:',f)"
   ]
  },
  {
   "cell_type": "markdown",
   "id": "dbbdb581",
   "metadata": {},
   "source": [
    " <h3> Question 5 </h3>"
   ]
  },
  {
   "cell_type": "code",
   "execution_count": null,
   "id": "7b6ea1a2",
   "metadata": {},
   "outputs": [],
   "source": [
    "a.) In every year, there can be at most one patient who needs medical insurance in a family.. b.) Likewise., In every year, the probability of a medical emergency is 0.05 c.) The number of patients in every years period in one family..\n",
    "\n",
    "3 patients in 10 years in one fam..\n",
    "\n",
    "Fewer than 3 patients s means all the cases where you don’t get 3 patients… If the cases where you get 3 patients is T% then the cases when you don’t get 3 patients is: 100% - T%\n",
    "\n",
    "P(3 patients) = P(patients)^3 = 1/8 → T% = 12.5% → %(fewer than 3 patients) = 87.5%\n",
    "\n",
    "In general, even in case you have more than 3 patients, then:\n",
    "\n",
    "P(“fewer than 3 patients”) = P(0 patients) + P(1 patient) + P(2 patients)"
   ]
  },
  {
   "cell_type": "markdown",
   "id": "30144b8a",
   "metadata": {},
   "source": [
    "<h3>Question 11 </h3>"
   ]
  },
  {
   "cell_type": "code",
   "execution_count": null,
   "id": "72350a7c",
   "metadata": {},
   "outputs": [],
   "source": [
    "no_of_customers = [1419,1320,1526,1289,1620,2067,2055]\n",
    "avg = sum(no_of_customers)/len(no_of_customers)\n",
    "from scipy.stats import ttest_1samp\n",
    "test = ttest_1samp(no_of_customers,avg)\n",
    "print(test)\n",
    "print()\n",
    "if test[-1] <= 0.01 :\n",
    "    print('Different days of the week have the same frequency of customers')\n",
    "else:\n",
    "     print('Different days of the week have the different frequency of customers')"
   ]
  },
  {
   "cell_type": "markdown",
   "id": "ed52af90",
   "metadata": {},
   "source": [
    "<h3> Question 12 </h3>"
   ]
  },
  {
   "cell_type": "code",
   "execution_count": null,
   "id": "6d3f2f3b",
   "metadata": {},
   "outputs": [],
   "source": [
    "import pandas as pd\n",
    "City = [\"New York\", \"New Jersey\", \"Michigan\", \"California\", \"Florida\", \"Massachusetts\", \"Texas\"]\n",
    "No_of_deaths_in_last_month = [3406, 1469, 662, 583, 582, 526, 461]\n",
    "No_of_deaths_in_current_month = [4398, 1846, 1288, 382, 879, 430, 321]\n",
    "df = pd.DataFrame({\"City\": City, \"No_of_deaths_in_last_month\":No_of_deaths_in_last_month, \"No_of_deaths_in_current_month\": No_of_deaths_in_current_month})\n",
    "print(df)\n",
    "predicted=[]\n",
    "significance=[]\n",
    "for i in No_of_deaths_in_last_month:\n",
    "    predicted.append((0.30*i)+i)\n",
    "    significance.append(round(0.1*i,1))\n",
    "print()    \n",
    "print(\"predicted by scientist\",predicted)\n",
    "print()\n",
    "print(\"actual current death value \",No_of_deaths_in_current_month)\n",
    "\n",
    "import numpy as np\n",
    "n_predicted=np.array(predicted)\n",
    "n_No_of_deaths_in_current_month=np.array(No_of_deaths_in_current_month)\n",
    "difference=np.absolute(n_No_of_deaths_in_current_month-n_predicted)\n",
    "print()\n",
    "print(\"difference between predicted and current\",difference)\n",
    "print()\n",
    "print(\"signicance of 0.1\",significance)\n",
    "\n",
    "print()\n",
    "\n",
    "from scipy.stats import ttest_ind\n",
    "print(ttest_ind(No_of_deaths_in_current_month,predicted))\n",
    "print()\n",
    "if (ttest_ind(No_of_deaths_in_current_month,predicted)[-1] <=0.01 ):\n",
    "    print(\"Same as Expert's prediction\")\n",
    "else:\n",
    "    print(\"Not Same as Expert's prediction\")"
   ]
  },
  {
   "cell_type": "code",
   "execution_count": null,
   "id": "03927d2a",
   "metadata": {},
   "outputs": [],
   "source": []
  },
  {
   "cell_type": "code",
   "execution_count": null,
   "id": "e1fd0eb7",
   "metadata": {},
   "outputs": [],
   "source": []
  },
  {
   "cell_type": "code",
   "execution_count": null,
   "id": "0fb6c0f9",
   "metadata": {},
   "outputs": [],
   "source": []
  },
  {
   "cell_type": "code",
   "execution_count": null,
   "id": "0f04dacf",
   "metadata": {},
   "outputs": [],
   "source": []
  }
 ],
 "metadata": {
  "kernelspec": {
   "display_name": "Python 3 (ipykernel)",
   "language": "python",
   "name": "python3"
  },
  "language_info": {
   "codemirror_mode": {
    "name": "ipython",
    "version": 3
   },
   "file_extension": ".py",
   "mimetype": "text/x-python",
   "name": "python",
   "nbconvert_exporter": "python",
   "pygments_lexer": "ipython3",
   "version": "3.9.7"
  }
 },
 "nbformat": 4,
 "nbformat_minor": 5
}
